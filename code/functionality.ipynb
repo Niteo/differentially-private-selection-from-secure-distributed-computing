{
 "cells": [
  {
   "cell_type": "code",
   "execution_count": 1,
   "id": "999e6552",
   "metadata": {},
   "outputs": [],
   "source": [
    "import numpy as np\n",
    "\n",
    "\n",
    "def functionality(x, p, k, parties=3, kappa=30):\n",
    "    #n = x.shape[0]\n",
    "    d = x.size\n",
    "    x = np.reshape(x.size, 1) # Make sure we're one-dimensional\n",
    "    added = x #np.sum(x,axis=0) assume already aggregated\n",
    "\n",
    "    # sample twice from geometric distribution (or negative binomial with second parameter 1), once for each party\n",
    "    trusted_noise_parties = np.ceil((parties-1)/2)\n",
    "    for i in range(parties-1):\n",
    "        noise = np.random.negative_binomial(n=1./trusted_noise_parties,p=p, size=d)\n",
    "        added = np.add(added, noise)\n",
    "    # MISSING: if any resulting noisy share exceeds 2^{kappa+n} bits, round down. This would reduce the total error\n",
    "    \n",
    "    share1 = np.random.randint(-2**kappa,2**kappa,size=d)\n",
    "    share2 = added-share1\n",
    "    for i in range(d):\n",
    "        if share1[i]+share2[i] != added[i]: # RP: Happens only if overflow?\n",
    "            share2[i]=-1*share2[i]\n",
    "    truncated_true = [np.trunc((s1+s2)/k) for (s1,s2) in zip(share1,share2)]\n",
    "    truncated_shares = [np.trunc((s1)/k)+np.trunc((s2)/k) for (s1,s2) in zip(share1,share2)]\n",
    "    truncation_error = [s2 - s1 for (s1,s2) in zip(truncated_true,truncated_shares)]\n",
    "\n",
    "    # truncation_wo_sharing = np.random.binomial(1,0.5)*0.5\n",
    "    # truncation error depends on number of parties with shares (parties-1), not including the dealer\n",
    "    # truncation_error = int(np.sum(np.random.binomial((parties-1),0.5))/2)\n",
    "    truncated = np.trunc(added/k)-truncation_error\n",
    "    return np.argmax(truncated)\n",
    "    "
   ]
  },
  {
   "cell_type": "code",
   "execution_count": 2,
   "id": "73675280",
   "metadata": {},
   "outputs": [
    {
     "name": "stdout",
     "output_type": "stream",
     "text": [
      "128\n"
     ]
    }
   ],
   "source": [
    "# we assume one of the parties is the dealer and the rest compute on the shares\n",
    "parties = 3\n",
    "\n",
    "# number of data owners\n",
    "n = 100\n",
    "# number of dimensions\n",
    "d = 8\n",
    "# parameter for geometric distribution (computed from DP guarantee)\n",
    "p = 0.4\n",
    "# divisor for truncating\n",
    "k = 2\n",
    "# data sampled uniformly in {0,1}\n",
    "x = np.around(np.random.rand(n,d))\n",
    "\n",
    "\n",
    "print(functionality(x,p,parties,k))"
   ]
  },
  {
   "cell_type": "code",
   "execution_count": null,
   "id": "7162ebe6",
   "metadata": {},
   "outputs": [],
   "source": []
  }
 ],
 "metadata": {
  "kernelspec": {
   "display_name": "Python 3 (ipykernel)",
   "language": "python",
   "name": "python3"
  },
  "language_info": {
   "codemirror_mode": {
    "name": "ipython",
    "version": 3
   },
   "file_extension": ".py",
   "mimetype": "text/x-python",
   "name": "python",
   "nbconvert_exporter": "python",
   "pygments_lexer": "ipython3",
   "version": "3.10.11"
  }
 },
 "nbformat": 4,
 "nbformat_minor": 5
}
